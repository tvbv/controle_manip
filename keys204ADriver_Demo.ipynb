{
 "cells": [
  {
   "cell_type": "markdown",
   "id": "13c66081",
   "metadata": {},
   "source": [
    "## This is an exemple of use of the features present in the keys204ADriver.\n",
    "This is a driver enabling easy control of a Keysight S series 204A from a python script, trough the rj45 porte of the device. "
   ]
  },
  {
   "cell_type": "code",
   "execution_count": 1,
   "id": "ea33403e",
   "metadata": {},
   "outputs": [],
   "source": [
    "import pyvisa as visa\n",
    "import lab.keys204ADriver as scope_driver"
   ]
  },
  {
   "cell_type": "code",
   "execution_count": 2,
   "id": "aba2b7ee",
   "metadata": {},
   "outputs": [
    {
     "data": {
      "text/plain": [
       "('TCPIP0::WINDOWS-OJ1GKBU.local::hislip0::INSTR',\n",
       " 'TCPIP0::WINDOWS-OJ1GKBU.local::inst0::INSTR',\n",
       " 'ASRL1::INSTR',\n",
       " 'ASRL3::INSTR')"
      ]
     },
     "execution_count": 2,
     "metadata": {},
     "output_type": "execute_result"
    }
   ],
   "source": [
    "visa.ResourceManager().list_resources()"
   ]
  },
  {
   "cell_type": "code",
   "execution_count": 3,
   "id": "e3d87a94",
   "metadata": {},
   "outputs": [
    {
     "name": "stdout",
     "output_type": "stream",
     "text": [
      "Connected Device : KEYSIGHT TECHNOLOGIES,MSOS204A,MY55510136,05.70.00714\n",
      "\n"
     ]
    }
   ],
   "source": [
    "A = scope_driver.Keys204A(\"TCPIP0::WINDOWS-OJ1GKBU.local::inst0::INSTR\")"
   ]
  },
  {
   "cell_type": "code",
   "execution_count": 4,
   "id": "daa59b9d",
   "metadata": {},
   "outputs": [
    {
     "data": {
      "text/plain": [
       "\u001b[1;31mSignature:\u001b[0m\n",
       "\u001b[0mA\u001b[0m\u001b[1;33m.\u001b[0m\u001b[0mset_trigger\u001b[0m\u001b[1;33m(\u001b[0m\u001b[1;33m\n",
       "\u001b[0m    \u001b[0mtrigger_channel\u001b[0m\u001b[1;33m=\u001b[0m\u001b[1;36m1\u001b[0m\u001b[1;33m,\u001b[0m\u001b[1;33m\n",
       "\u001b[0m    \u001b[0mtrigger_sweep\u001b[0m\u001b[1;33m=\u001b[0m\u001b[1;32mNone\u001b[0m\u001b[1;33m,\u001b[0m\u001b[1;33m\n",
       "\u001b[0m    \u001b[0mtrigger_level\u001b[0m\u001b[1;33m=\u001b[0m\u001b[1;32mNone\u001b[0m\u001b[1;33m,\u001b[0m\u001b[1;33m\n",
       "\u001b[0m    \u001b[0mprint_output\u001b[0m\u001b[1;33m=\u001b[0m\u001b[1;36m0\u001b[0m\u001b[1;33m,\u001b[0m\u001b[1;33m\n",
       "\u001b[0m\u001b[1;33m)\u001b[0m\u001b[1;33m\u001b[0m\u001b[1;33m\u001b[0m\u001b[0m\n",
       "\u001b[1;31mDocstring:\u001b[0m\n",
       "set the scope's trigger mode, level and channel \n",
       "----------\n",
       "trigger_sweep : str\n",
       "    The type of trigger. \"TRIGGERED\" or \"AUTO\". By default no changes are applied.\n",
       "trigger_level : float\n",
       "    the level for the trigger. By default no changes are applied.\n",
       "trigger_channel : int\n",
       "    the channel on wich the trigger is set.\n",
       "print_output : boolean\n",
       "    wether to prit or not the new setting to verify all is good\n",
       "\u001b[1;31mFile:\u001b[0m      c:\\users\\fpga designer\\documents\\github\\controle_manip\\lab\\keys204adriver.py\n",
       "\u001b[1;31mType:\u001b[0m      method\n"
      ]
     },
     "metadata": {},
     "output_type": "display_data"
    }
   ],
   "source": [
    "A.set_trigger?\n",
    "A.set_trigger(1,\"TRIGGERED\",1)"
   ]
  },
  {
   "cell_type": "code",
   "execution_count": 5,
   "id": "5c18c431",
   "metadata": {},
   "outputs": [
    {
     "data": {
      "text/plain": [
       "\u001b[1;31mSignature:\u001b[0m \u001b[0mA\u001b[0m\u001b[1;33m.\u001b[0m\u001b[0mtime_base\u001b[0m\u001b[1;33m(\u001b[0m\u001b[0mtime_scale\u001b[0m\u001b[1;33m,\u001b[0m \u001b[0mtime_ref\u001b[0m\u001b[1;33m,\u001b[0m \u001b[0mprint_output\u001b[0m\u001b[1;33m=\u001b[0m\u001b[1;36m0\u001b[0m\u001b[1;33m)\u001b[0m\u001b[1;33m\u001b[0m\u001b[1;33m\u001b[0m\u001b[0m\n",
       "\u001b[1;31mDocstring:\u001b[0m\n",
       "set the scope's time base scale and offset\n",
       "----------\n",
       "time_scale : float\n",
       "    time per division in seconds. ranges from 5e-12 to 20.\n",
       "time_ref : int\n",
       "    percentage of the screen (starting from the left) where the time offset is put. 0 = flush left, 50 = middle , 100 = flush right.\n",
       "print_output : boolean\n",
       "    wether to prit or not the new setting to verify all is good\n",
       "\u001b[1;31mFile:\u001b[0m      c:\\users\\fpga designer\\documents\\github\\controle_manip\\lab\\keys204adriver.py\n",
       "\u001b[1;31mType:\u001b[0m      method\n"
      ]
     },
     "metadata": {},
     "output_type": "display_data"
    }
   ],
   "source": [
    "A.time_base?\n",
    "A.time_base(1e-5,10)"
   ]
  },
  {
   "cell_type": "markdown",
   "id": "bcbd8d86",
   "metadata": {},
   "source": [
    "### remark : if a probe is set in and is already giving the scaling to the scope, entering a probe ratio will cause an error to occur"
   ]
  },
  {
   "cell_type": "code",
   "execution_count": 6,
   "id": "ba740162",
   "metadata": {},
   "outputs": [
    {
     "name": "stdout",
     "output_type": "stream",
     "text": [
      "0\n",
      "1\n",
      "2\n",
      "3\n"
     ]
    },
    {
     "data": {
      "text/plain": [
       "\u001b[1;31mSignature:\u001b[0m\n",
       "\u001b[0mA\u001b[0m\u001b[1;33m.\u001b[0m\u001b[0mset_channels\u001b[0m\u001b[1;33m(\u001b[0m\u001b[1;33m\n",
       "\u001b[0m    \u001b[0mchannels\u001b[0m\u001b[1;33m=\u001b[0m\u001b[1;33m[\u001b[0m\u001b[1;36m1\u001b[0m\u001b[1;33m,\u001b[0m \u001b[1;36m2\u001b[0m\u001b[1;33m,\u001b[0m \u001b[1;36m3\u001b[0m\u001b[1;33m,\u001b[0m \u001b[1;36m4\u001b[0m\u001b[1;33m]\u001b[0m\u001b[1;33m,\u001b[0m\u001b[1;33m\n",
       "\u001b[0m    \u001b[0mdisplays\u001b[0m\u001b[1;33m=\u001b[0m\u001b[1;33m[\u001b[0m\u001b[1;36m1\u001b[0m\u001b[1;33m,\u001b[0m \u001b[1;36m1\u001b[0m\u001b[1;33m,\u001b[0m \u001b[1;36m1\u001b[0m\u001b[1;33m,\u001b[0m \u001b[1;36m1\u001b[0m\u001b[1;33m]\u001b[0m\u001b[1;33m,\u001b[0m\u001b[1;33m\n",
       "\u001b[0m    \u001b[0my_scales\u001b[0m\u001b[1;33m=\u001b[0m\u001b[1;33m[\u001b[0m\u001b[1;36m1\u001b[0m\u001b[1;33m,\u001b[0m \u001b[1;36m1\u001b[0m\u001b[1;33m,\u001b[0m \u001b[1;36m1\u001b[0m\u001b[1;33m,\u001b[0m \u001b[1;36m1\u001b[0m\u001b[1;33m]\u001b[0m\u001b[1;33m,\u001b[0m\u001b[1;33m\n",
       "\u001b[0m    \u001b[0moffsets\u001b[0m\u001b[1;33m=\u001b[0m\u001b[1;33m[\u001b[0m\u001b[1;36m0\u001b[0m\u001b[1;33m,\u001b[0m \u001b[1;36m0\u001b[0m\u001b[1;33m,\u001b[0m \u001b[1;36m0\u001b[0m\u001b[1;33m,\u001b[0m \u001b[1;36m0\u001b[0m\u001b[1;33m]\u001b[0m\u001b[1;33m,\u001b[0m\u001b[1;33m\n",
       "\u001b[0m    \u001b[0mprobes\u001b[0m\u001b[1;33m=\u001b[0m\u001b[1;33m[\u001b[0m\u001b[1;32mNone\u001b[0m\u001b[1;33m,\u001b[0m \u001b[1;32mNone\u001b[0m\u001b[1;33m,\u001b[0m \u001b[1;32mNone\u001b[0m\u001b[1;33m,\u001b[0m \u001b[1;32mNone\u001b[0m\u001b[1;33m]\u001b[0m\u001b[1;33m,\u001b[0m\u001b[1;33m\n",
       "\u001b[0m    \u001b[0minput_couplings\u001b[0m\u001b[1;33m=\u001b[0m\u001b[1;33m[\u001b[0m\u001b[1;34m'DC'\u001b[0m\u001b[1;33m,\u001b[0m \u001b[1;34m'DC'\u001b[0m\u001b[1;33m,\u001b[0m \u001b[1;34m'DC'\u001b[0m\u001b[1;33m,\u001b[0m \u001b[1;34m'DC'\u001b[0m\u001b[1;33m]\u001b[0m\u001b[1;33m,\u001b[0m\u001b[1;33m\n",
       "\u001b[0m    \u001b[0mprint_output\u001b[0m\u001b[1;33m=\u001b[0m\u001b[1;36m0\u001b[0m\u001b[1;33m,\u001b[0m\u001b[1;33m\n",
       "\u001b[0m\u001b[1;33m)\u001b[0m\u001b[1;33m\u001b[0m\u001b[1;33m\u001b[0m\u001b[0m\n",
       "\u001b[1;31mDocstring:\u001b[0m\n",
       "set the scope's time base scale and offset\n",
       "----------\n",
       "channels : int list\n",
       "    channels to tweak. 1 to 4.\n",
       "displays : boolean list\n",
       "    displaying state of the specified channels.\n",
       "y_scales : int list\n",
       "    voltage per division for the specifieds channels.\n",
       "offsets : real list\n",
       "    offset for the specified channel\n",
       "probes : float list\n",
       "    probes ratio (X:1) for the specified channels : ranges from 1e-4 to 1e3\n",
       "input_coupling : str list\n",
       "    choose from the following parameters :\n",
       "        DC = DC coupling, 1 MΩ impedance.\n",
       "        DC50 or DCFifty = DC coupling, 50Ω impedance.\n",
       "        AC = AC coupling, 1 MΩ impedance.\n",
       "        LFR1 or LFR2 = AC 1 MΩ input impedance.\n",
       "    When no probe is attached, the coupling for each channel can be AC, DC,\n",
       "    DC50, or DCFifty.\n",
       "    If you have an 1153A probe attached, the valid parameters are DC, LFR1, and\n",
       "    LFR2 (low-frequency reject).\n",
       "print_output : boolean\n",
       "    wether to prit or not the new setting to verify all is good\n",
       "\u001b[1;31mFile:\u001b[0m      c:\\users\\fpga designer\\documents\\github\\controle_manip\\lab\\keys204adriver.py\n",
       "\u001b[1;31mType:\u001b[0m      method\n"
      ]
     },
     "metadata": {},
     "output_type": "display_data"
    }
   ],
   "source": [
    "A.set_channels?\n",
    "A.set_channels()"
   ]
  }
 ],
 "metadata": {
  "kernelspec": {
   "display_name": "Python 3",
   "language": "python",
   "name": "python3"
  },
  "language_info": {
   "codemirror_mode": {
    "name": "ipython",
    "version": 3
   },
   "file_extension": ".py",
   "mimetype": "text/x-python",
   "name": "python",
   "nbconvert_exporter": "python",
   "pygments_lexer": "ipython3",
   "version": "3.6.13"
  }
 },
 "nbformat": 4,
 "nbformat_minor": 5
}
