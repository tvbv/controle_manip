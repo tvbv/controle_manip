{
 "cells": [
  {
   "cell_type": "markdown",
   "id": "c8811692",
   "metadata": {},
   "source": [
    "## This is an exemple of use of the features present in the keys204ADriver.\n",
    "This is a driver enabling easy control of a Keysight S series 204A from a python script, trough the rj45 porte of the device. "
   ]
  },
  {
   "cell_type": "code",
   "execution_count": 1,
   "id": "2eb5f3e9",
   "metadata": {},
   "outputs": [
    {
     "data": {
      "text/plain": [
       "\u001b[1;31mType:\u001b[0m        module\n",
       "\u001b[1;31mString form:\u001b[0m <module 'lab.keys204ADriver' from 'C:\\\\Users\\\\FPGA designer\\\\Documents\\\\GitHub\\\\controle_manip\\\\lab\\\\keys204ADriver.py'>\n",
       "\u001b[1;31mFile:\u001b[0m        c:\\users\\fpga designer\\documents\\github\\controle_manip\\lab\\keys204adriver.py\n",
       "\u001b[1;31mDocstring:\u001b[0m  \n",
       "================================================================================================\n",
       "# this is a library enabling remote control of a  Keysight S series 204A with a rj45 port from a pc.\n",
       "#\n",
       "# develloped @ C2N, palaiseau.\n",
       "#\n",
       "# Need a pyvisa backend to work.\n",
       "#\n",
       "#================================================================================================\n"
      ]
     },
     "metadata": {},
     "output_type": "display_data"
    }
   ],
   "source": [
    "import pyvisa as visa\n",
    "import numpy as np\n",
    "import matplotlib.pyplot as plt\n",
    "import lab.keys204ADriver as scope_driver\n",
    "scope_driver?"
   ]
  },
  {
   "cell_type": "code",
   "execution_count": 2,
   "id": "8ea056b9",
   "metadata": {},
   "outputs": [
    {
     "data": {
      "text/plain": [
       "('USB0::0x2A8D::0x904F::MY55510136::INSTR', 'ASRL1::INSTR', 'ASRL3::INSTR')"
      ]
     },
     "execution_count": 2,
     "metadata": {},
     "output_type": "execute_result"
    }
   ],
   "source": [
    "visa.ResourceManager('@ivi').list_resources('?*')"
   ]
  },
  {
   "cell_type": "markdown",
   "id": "7190adfb",
   "metadata": {},
   "source": [
    "## Scope initialisation"
   ]
  },
  {
   "cell_type": "code",
   "execution_count": 3,
   "id": "a6ee3b32",
   "metadata": {},
   "outputs": [
    {
     "name": "stdout",
     "output_type": "stream",
     "text": [
      "Connected Device : KEYSIGHT TECHNOLOGIES,MSOS204A,MY55510136,05.70.00714\n",
      "\n"
     ]
    },
    {
     "data": {
      "text/plain": [
       "\u001b[1;31mInit signature:\u001b[0m \u001b[0mscope_driver\u001b[0m\u001b[1;33m.\u001b[0m\u001b[0mKeys204A\u001b[0m\u001b[1;33m(\u001b[0m\u001b[0madress\u001b[0m\u001b[1;33m,\u001b[0m \u001b[0mbackend\u001b[0m\u001b[1;33m=\u001b[0m\u001b[1;34m'@ivi'\u001b[0m\u001b[1;33m)\u001b[0m\u001b[1;33m\u001b[0m\u001b[1;33m\u001b[0m\u001b[0m\n",
       "\u001b[1;31mDocstring:\u001b[0m     \n",
       "class that manages the scope.\n",
       "\n",
       "...\n",
       "\n",
       "Attributes\n",
       "----------\n",
       "adress : str\n",
       "    the port adress of the scope.\n",
       "\n",
       "ressource_manager : comtypes.POINTER(IResourceManager)\n",
       "    the ressource manager for the scope.\n",
       "\n",
       "inst : comtypes.POINTER(IFormattedIO488)\n",
       "    comtypes instance.\n",
       "\n",
       "Methods\n",
       "----------\n",
       "do_command(command) : \n",
       "    sends a command to the scope.\n",
       "    \n",
       "do_query_string(query) :\n",
       "    queries the scope and return the answer as a string.\n",
       "    \n",
       "do_query_ieee_block(query) :\n",
       "    enables querying easily the scope for binary data.\n",
       "    \n",
       "do_query_number(query) :\n",
       "    queries the scope for a number.\n",
       "    \n",
       "set_trigger(trigger_channel,trigger_sweep,trigger_level) :\n",
       "    set the trigger parameters.\n",
       "    \n",
       "time_base(time_scale, time_ref) :\n",
       "    set the time scale on the scope display.\n",
       "    \n",
       "set_channels(channels, displays, y_scales, offsets, probes, input_couplings) :\n",
       "    set the channels display and probes.\n",
       "\n",
       "retrieve_waveform(channel) :\n",
       "    retrieve a displayed waveform on the specified channel.\n",
       "\n",
       "save_waveform(channel, name, path) : \n",
       "    retrieve and save a displayed waveform on the specified channel.\n",
       "\u001b[1;31mInit docstring:\u001b[0m\n",
       "Initializes the instrument with instrument address, backend to use with pyvisa.\n",
       "\n",
       "Parameters\n",
       "----------\n",
       "inst_address : str\n",
       "    The port address of the instrument.\n",
       "\n",
       "backend : str, default : '@ivi'\n",
       "    Backend to use for pyvisa.\n",
       "\u001b[1;31mFile:\u001b[0m           c:\\users\\fpga designer\\documents\\github\\controle_manip\\lab\\keys204adriver.py\n",
       "\u001b[1;31mType:\u001b[0m           type\n",
       "\u001b[1;31mSubclasses:\u001b[0m     \n"
      ]
     },
     "metadata": {},
     "output_type": "display_data"
    }
   ],
   "source": [
    "scope_driver.Keys204A?\n",
    "A = scope_driver.Keys204A('USB0::0x2A8D::0x904F::MY55510136::INSTR')"
   ]
  },
  {
   "cell_type": "markdown",
   "id": "1bdf5cf7",
   "metadata": {},
   "source": [
    "## Trigger setting"
   ]
  },
  {
   "cell_type": "code",
   "execution_count": 4,
   "id": "9cfad9d9",
   "metadata": {},
   "outputs": [
    {
     "data": {
      "text/plain": [
       "\u001b[1;31mSignature:\u001b[0m\n",
       "\u001b[0mscope_driver\u001b[0m\u001b[1;33m.\u001b[0m\u001b[0mKeys204A\u001b[0m\u001b[1;33m.\u001b[0m\u001b[0mset_trigger\u001b[0m\u001b[1;33m(\u001b[0m\u001b[1;33m\n",
       "\u001b[0m    \u001b[0mself\u001b[0m\u001b[1;33m,\u001b[0m\u001b[1;33m\n",
       "\u001b[0m    \u001b[0mtrigger_channel\u001b[0m\u001b[1;33m=\u001b[0m\u001b[1;36m1\u001b[0m\u001b[1;33m,\u001b[0m\u001b[1;33m\n",
       "\u001b[0m    \u001b[0mtrigger_sweep\u001b[0m\u001b[1;33m=\u001b[0m\u001b[1;32mNone\u001b[0m\u001b[1;33m,\u001b[0m\u001b[1;33m\n",
       "\u001b[0m    \u001b[0mtrigger_level\u001b[0m\u001b[1;33m=\u001b[0m\u001b[1;32mNone\u001b[0m\u001b[1;33m,\u001b[0m\u001b[1;33m\n",
       "\u001b[0m    \u001b[0mprint_output\u001b[0m\u001b[1;33m=\u001b[0m\u001b[1;36m0\u001b[0m\u001b[1;33m,\u001b[0m\u001b[1;33m\n",
       "\u001b[0m\u001b[1;33m)\u001b[0m\u001b[1;33m\u001b[0m\u001b[1;33m\u001b[0m\u001b[0m\n",
       "\u001b[1;31mDocstring:\u001b[0m\n",
       "set the scope's trigger mode, level and channel.\n",
       "\n",
       "Parameters\n",
       "----------\n",
       "trigger_channel : int, default = 1\n",
       "    the channel on wich the trigger is set.\n",
       "    \n",
       "trigger_sweep : str, default = None\n",
       "    The type of trigger. \"TRIGGERED\" or \"AUTO\". By default no changes are applied.\n",
       "\n",
       "trigger_level : float, default = None\n",
       "    the level for the trigger. By default no changes are applied.\n",
       "\n",
       "print_output : boolean, default = 0\n",
       "    wether to prit or not the new setting to verify all is good.\n",
       "\u001b[1;31mFile:\u001b[0m      c:\\users\\fpga designer\\documents\\github\\controle_manip\\lab\\keys204adriver.py\n",
       "\u001b[1;31mType:\u001b[0m      function\n"
      ]
     },
     "metadata": {},
     "output_type": "display_data"
    }
   ],
   "source": [
    "scope_driver.Keys204A.set_trigger?\n",
    "A.set_trigger(2,\"AUTO\",0.2)"
   ]
  },
  {
   "cell_type": "markdown",
   "id": "00f6d0ce",
   "metadata": {},
   "source": [
    "## Time base setting"
   ]
  },
  {
   "cell_type": "code",
   "execution_count": 5,
   "id": "1c4333b9",
   "metadata": {},
   "outputs": [
    {
     "data": {
      "text/plain": [
       "\u001b[1;31mSignature:\u001b[0m \u001b[0mscope_driver\u001b[0m\u001b[1;33m.\u001b[0m\u001b[0mKeys204A\u001b[0m\u001b[1;33m.\u001b[0m\u001b[0mtime_base\u001b[0m\u001b[1;33m(\u001b[0m\u001b[0mself\u001b[0m\u001b[1;33m,\u001b[0m \u001b[0mtime_scale\u001b[0m\u001b[1;33m,\u001b[0m \u001b[0mtime_ref\u001b[0m\u001b[1;33m,\u001b[0m \u001b[0mprint_output\u001b[0m\u001b[1;33m=\u001b[0m\u001b[1;36m0\u001b[0m\u001b[1;33m)\u001b[0m\u001b[1;33m\u001b[0m\u001b[1;33m\u001b[0m\u001b[0m\n",
       "\u001b[1;31mDocstring:\u001b[0m\n",
       " set the scope's time base scale and offset.\n",
       " \n",
       "Parameters\n",
       " ----------\n",
       " time_scale : float\n",
       "     time per division in seconds. ranges from 5e-12 to 20.\n",
       " \n",
       " time_ref : int\n",
       "     percentage of the screen (starting from the left) where the time offset is put. 0 = flush left, 50 = middle , 100 = flush right.\n",
       " \n",
       " print_output : boolean, default = 0\n",
       "     wether to prit or not the new setting to verify all is good.\n",
       " \n",
       "\u001b[1;31mFile:\u001b[0m      c:\\users\\fpga designer\\documents\\github\\controle_manip\\lab\\keys204adriver.py\n",
       "\u001b[1;31mType:\u001b[0m      function\n"
      ]
     },
     "metadata": {},
     "output_type": "display_data"
    }
   ],
   "source": [
    "scope_driver.Keys204A.time_base?\n",
    "A.time_base(1e-4,10)"
   ]
  },
  {
   "cell_type": "markdown",
   "id": "00dd3361",
   "metadata": {},
   "source": [
    "## Channel view setting\n",
    "\n",
    "### remark : if a probe is set in and is already giving the scaling to the scope, entering a probe ratio will cause an error to occur"
   ]
  },
  {
   "cell_type": "code",
   "execution_count": 6,
   "id": "2ce1a73e",
   "metadata": {},
   "outputs": [
    {
     "data": {
      "text/plain": [
       "\u001b[1;31mSignature:\u001b[0m\n",
       "\u001b[0mscope_driver\u001b[0m\u001b[1;33m.\u001b[0m\u001b[0mKeys204A\u001b[0m\u001b[1;33m.\u001b[0m\u001b[0mset_channels\u001b[0m\u001b[1;33m(\u001b[0m\u001b[1;33m\n",
       "\u001b[0m    \u001b[0mself\u001b[0m\u001b[1;33m,\u001b[0m\u001b[1;33m\n",
       "\u001b[0m    \u001b[0mchannels\u001b[0m\u001b[1;33m=\u001b[0m\u001b[1;33m[\u001b[0m\u001b[1;36m1\u001b[0m\u001b[1;33m,\u001b[0m \u001b[1;36m2\u001b[0m\u001b[1;33m,\u001b[0m \u001b[1;36m3\u001b[0m\u001b[1;33m,\u001b[0m \u001b[1;36m4\u001b[0m\u001b[1;33m]\u001b[0m\u001b[1;33m,\u001b[0m\u001b[1;33m\n",
       "\u001b[0m    \u001b[0mdisplays\u001b[0m\u001b[1;33m=\u001b[0m\u001b[1;33m[\u001b[0m\u001b[1;36m1\u001b[0m\u001b[1;33m,\u001b[0m \u001b[1;36m1\u001b[0m\u001b[1;33m,\u001b[0m \u001b[1;36m1\u001b[0m\u001b[1;33m,\u001b[0m \u001b[1;36m1\u001b[0m\u001b[1;33m]\u001b[0m\u001b[1;33m,\u001b[0m\u001b[1;33m\n",
       "\u001b[0m    \u001b[0my_scales\u001b[0m\u001b[1;33m=\u001b[0m\u001b[1;33m[\u001b[0m\u001b[1;36m1\u001b[0m\u001b[1;33m,\u001b[0m \u001b[1;36m1\u001b[0m\u001b[1;33m,\u001b[0m \u001b[1;36m1\u001b[0m\u001b[1;33m,\u001b[0m \u001b[1;36m1\u001b[0m\u001b[1;33m]\u001b[0m\u001b[1;33m,\u001b[0m\u001b[1;33m\n",
       "\u001b[0m    \u001b[0moffsets\u001b[0m\u001b[1;33m=\u001b[0m\u001b[1;33m[\u001b[0m\u001b[1;36m0.0\u001b[0m\u001b[1;33m,\u001b[0m \u001b[1;36m0.0\u001b[0m\u001b[1;33m,\u001b[0m \u001b[1;36m0.0\u001b[0m\u001b[1;33m,\u001b[0m \u001b[1;36m0.0\u001b[0m\u001b[1;33m]\u001b[0m\u001b[1;33m,\u001b[0m\u001b[1;33m\n",
       "\u001b[0m    \u001b[0mprobes\u001b[0m\u001b[1;33m=\u001b[0m\u001b[1;33m[\u001b[0m\u001b[1;32mNone\u001b[0m\u001b[1;33m,\u001b[0m \u001b[1;32mNone\u001b[0m\u001b[1;33m,\u001b[0m \u001b[1;32mNone\u001b[0m\u001b[1;33m,\u001b[0m \u001b[1;32mNone\u001b[0m\u001b[1;33m]\u001b[0m\u001b[1;33m,\u001b[0m\u001b[1;33m\n",
       "\u001b[0m    \u001b[0minput_couplings\u001b[0m\u001b[1;33m=\u001b[0m\u001b[1;33m[\u001b[0m\u001b[1;34m'DC'\u001b[0m\u001b[1;33m,\u001b[0m \u001b[1;34m'DC'\u001b[0m\u001b[1;33m,\u001b[0m \u001b[1;34m'DC'\u001b[0m\u001b[1;33m,\u001b[0m \u001b[1;34m'DC'\u001b[0m\u001b[1;33m]\u001b[0m\u001b[1;33m,\u001b[0m\u001b[1;33m\n",
       "\u001b[0m    \u001b[0mprint_output\u001b[0m\u001b[1;33m=\u001b[0m\u001b[1;36m0\u001b[0m\u001b[1;33m,\u001b[0m\u001b[1;33m\n",
       "\u001b[0m\u001b[1;33m)\u001b[0m\u001b[1;33m\u001b[0m\u001b[1;33m\u001b[0m\u001b[0m\n",
       "\u001b[1;31mDocstring:\u001b[0m\n",
       "set the scope's time base scale and offset.\n",
       "\n",
       "Parameters\n",
       "----------\n",
       "channels : int list, default = [1,2,3,4]\n",
       "    channels to tweak. 1 to 4.\n",
       "\n",
       "displays : boolean list, default = [1,1,1,1]\n",
       "    displaying state of the specified channels.\n",
       "\n",
       "y_scales : int list, default = [1,1,1,1]\n",
       "    voltage per division for the specifieds channels.\n",
       "\n",
       "offsets : float list, default = [0.,0.,0.,0.]\n",
       "    offset for the specified channel.\n",
       "\n",
       "probes : float list, default = [None,None,None,None]\n",
       "    probes ratio (X:1) for the specified channels : ranges from 1e-4 to 1e3. If probes attached are automaticaly providing the probe data to the scope, use None.\n",
       "\n",
       "input_coupling : str list, default = ['DC','DC','DC','DC']\n",
       "    choose from the following parameters :\n",
       "        DC = DC coupling, 1 MΩ impedance.\n",
       "        DC50 or DCFifty = DC coupling, 50Ω impedance.\n",
       "        AC = AC coupling, 1 MΩ impedance.\n",
       "        LFR1 or LFR2 = AC 1 MΩ input impedance.\n",
       "    When no probe is attached, the coupling for each channel can be AC, DC,\n",
       "    DC50, or DCFifty.\n",
       "    If you have an 1153A probe attached, the valid parameters are DC, LFR1, and\n",
       "    LFR2 (low-frequency reject).\n",
       "\n",
       "print_output : boolean, default = 0\n",
       "    wether to prit or not the new setting to verify all is good.\n",
       "\u001b[1;31mFile:\u001b[0m      c:\\users\\fpga designer\\documents\\github\\controle_manip\\lab\\keys204adriver.py\n",
       "\u001b[1;31mType:\u001b[0m      function\n"
      ]
     },
     "metadata": {},
     "output_type": "display_data"
    }
   ],
   "source": [
    "scope_driver.Keys204A.set_channels?\n",
    "A.set_channels([1,2,3,4],[1,1,0,0],[1,1,1,1],input_couplings=['DC50','DC50','DC','DC'])"
   ]
  },
  {
   "cell_type": "markdown",
   "id": "def2aa97",
   "metadata": {},
   "source": [
    "## Waveform retrieving and saving"
   ]
  },
  {
   "cell_type": "code",
   "execution_count": 7,
   "id": "79132d2e",
   "metadata": {},
   "outputs": [
    {
     "data": {
      "text/plain": [
       "[<matplotlib.lines.Line2D at 0x63c6bd0>]"
      ]
     },
     "execution_count": 7,
     "metadata": {},
     "output_type": "execute_result"
    },
    {
     "data": {
      "text/plain": [
       "\u001b[1;31mSignature:\u001b[0m \u001b[0mscope_driver\u001b[0m\u001b[1;33m.\u001b[0m\u001b[0mKeys204A\u001b[0m\u001b[1;33m.\u001b[0m\u001b[0mretrieve_waveform\u001b[0m\u001b[1;33m(\u001b[0m\u001b[0mself\u001b[0m\u001b[1;33m,\u001b[0m \u001b[0mchannel\u001b[0m\u001b[1;33m,\u001b[0m \u001b[0mnb_points\u001b[0m\u001b[1;33m)\u001b[0m\u001b[1;33m\u001b[0m\u001b[1;33m\u001b[0m\u001b[0m\n",
       "\u001b[1;31mDocstring:\u001b[0m\n",
       "retrieve y and x of the waveform on the specified channel (THEY MUST BE DISPLAYED).\n",
       "\n",
       "Parameters\n",
       "----------\n",
       "channel : int\n",
       "    number of channel to retrieve the waveform from.\n",
       "nb_points : int\n",
       "    number of data points to be acquired.\n",
       "Return\n",
       "----------\n",
       "x, y : numpy arrays\n",
       "\u001b[1;31mFile:\u001b[0m      c:\\users\\fpga designer\\documents\\github\\controle_manip\\lab\\keys204adriver.py\n",
       "\u001b[1;31mType:\u001b[0m      function\n"
      ]
     },
     "metadata": {},
     "output_type": "display_data"
    },
    {
     "data": {
      "image/png": "[encoded data removed]",
      "text/plain": [
       "<Figure size 432x288 with 1 Axes>"
      ]
     },
     "metadata": {
      "needs_background": "light"
     },
     "output_type": "display_data"
    }
   ],
   "source": [
    "scope_driver.Keys204A.retrieve_waveform?\n",
    "x,y = A.retrieve_waveform(1,1000000)\n",
    "plt.plot(x,y)"
   ]
  },
  {
   "cell_type": "code",
   "execution_count": 8,
   "id": "8454867a",
   "metadata": {},
   "outputs": [
    {
     "data": {
      "text/plain": [
       "[<matplotlib.lines.Line2D at 0x9339f90>]"
      ]
     },
     "execution_count": 8,
     "metadata": {},
     "output_type": "execute_result"
    },
    {
     "data": {
      "text/plain": [
       "\u001b[1;31mSignature:\u001b[0m\n",
       "\u001b[0mscope_driver\u001b[0m\u001b[1;33m.\u001b[0m\u001b[0mKeys204A\u001b[0m\u001b[1;33m.\u001b[0m\u001b[0msave_waveform\u001b[0m\u001b[1;33m(\u001b[0m\u001b[1;33m\n",
       "\u001b[0m    \u001b[0mself\u001b[0m\u001b[1;33m,\u001b[0m\u001b[1;33m\n",
       "\u001b[0m    \u001b[0mchannel\u001b[0m\u001b[1;33m,\u001b[0m\u001b[1;33m\n",
       "\u001b[0m    \u001b[0mnb_points\u001b[0m\u001b[1;33m,\u001b[0m\u001b[1;33m\n",
       "\u001b[0m    \u001b[0mname\u001b[0m\u001b[1;33m=\u001b[0m\u001b[1;34m'waveform'\u001b[0m\u001b[1;33m,\u001b[0m\u001b[1;33m\n",
       "\u001b[0m    \u001b[0mpath\u001b[0m\u001b[1;33m=\u001b[0m\u001b[1;34m''\u001b[0m\u001b[1;33m,\u001b[0m\u001b[1;33m\n",
       "\u001b[0m\u001b[1;33m)\u001b[0m\u001b[1;33m\u001b[0m\u001b[1;33m\u001b[0m\u001b[0m\n",
       "\u001b[1;31mDocstring:\u001b[0m\n",
       "retrieve y and x of the waveform on the specified channel (THEY MUST BE DISPLAYED) and store thame with the specified name within the specified folder.\n",
       "The data is stored under numpy array format with x being data[:,0] and y being data[:,1].\n",
       "\n",
       "Parameters\n",
       "----------\n",
       "channel : int\n",
       "    number of channel to retrieve the waveform from.\n",
       "\n",
       "nb_points : int\n",
       "    number of data point to be acquired.\n",
       "\n",
       "name : str, default = 'waveform'\n",
       "    name under wich data will be stored.\n",
       "    \n",
       "path : str, default = ''\n",
       "    path to where to store the data.\n",
       "\u001b[1;31mFile:\u001b[0m      c:\\users\\fpga designer\\documents\\github\\controle_manip\\lab\\keys204adriver.py\n",
       "\u001b[1;31mType:\u001b[0m      function\n"
      ]
     },
     "metadata": {},
     "output_type": "display_data"
    },
    {
     "data": {
      "image/png": "[encoded data removed]",
      "text/plain": [
       "<Figure size 432x288 with 1 Axes>"
      ]
     },
     "metadata": {
      "needs_background": "light"
     },
     "output_type": "display_data"
    }
   ],
   "source": [
    "scope_driver.Keys204A.save_waveform?\n",
    "A.save_waveform(1,1000000)\n",
    "data = np.load('waveform.npy')\n",
    "plt.plot(data[:,0],data[:,1])"
   ]
  },
  {
   "cell_type": "code",
   "execution_count": 3,
   "id": "a5452544",
   "metadata": {},
   "outputs": [],
   "source": []
  }
 ],
 "metadata": {
  "kernelspec": {
   "display_name": "Python 3",
   "language": "python",
   "name": "python3"
  },
  "language_info": {
   "codemirror_mode": {
    "name": "ipython",
    "version": 3
   },
   "file_extension": ".py",
   "mimetype": "text/x-python",
   "name": "python",
   "nbconvert_exporter": "python",
   "pygments_lexer": "ipython3",
   "version": "3.6.13"
  }
 },
 "nbformat": 4,
 "nbformat_minor": 5
}
