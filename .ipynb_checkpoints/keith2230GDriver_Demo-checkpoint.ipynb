{
 "cells": [
  {
   "cell_type": "markdown",
   "id": "0b37f503",
   "metadata": {},
   "source": [
    "## This is an exemple of use of the features present in the keith2230GDriver.\n",
    "This is a driver enabling easy control of a Keithley 2230G-30-1 from a python script, trough the GPIB porte of the device. (Note that a keithley kusb-488B has been used). "
   ]
  },
  {
   "cell_type": "markdown",
   "id": "feb2d3c2",
   "metadata": {},
   "source": [
    "## config needed\n",
    "\n",
    "python (tested with 32 bit python, might work for 64 bit)\n",
    "\n",
    "pyvisa (1.11.3)\n",
    "\n",
    "a backend for pyvisa (i used the NI-VISA backend, see https://pyvisa.readthedocs.io/en/latest/introduction/getting.html#backend for more information and https://www.ni.com/fr-fr/support/downloads/drivers/download.ni-visa.html for the NI-VISA donload)\n",
    "\n",
    "drivers for the keithley kusb-488B (8.0.904.20)"
   ]
  },
  {
   "cell_type": "code",
   "execution_count": 2,
   "id": "ca46e45a",
   "metadata": {},
   "outputs": [],
   "source": [
    "import pyvisa as visa\n",
    "import lab.keith2230GDriver as kdriver"
   ]
  },
  {
   "cell_type": "markdown",
   "id": "df0756fb",
   "metadata": {},
   "source": [
    "checking the list of devices plugged in the pc, you should see the port's number set on the device 'GPIB0::*number*::INSTR'"
   ]
  },
  {
   "cell_type": "code",
   "execution_count": 5,
   "id": "95dbb983",
   "metadata": {},
   "outputs": [
    {
     "name": "stdout",
     "output_type": "stream",
     "text": [
      "('ASRL1::INSTR', 'ASRL3::INSTR')\n"
     ]
    }
   ],
   "source": [
    "rm = visa.ResourceManager('@ivi')\n",
    "print(rm.list_resources('?*'))"
   ]
  },
  {
   "cell_type": "markdown",
   "id": "117f773b",
   "metadata": {},
   "source": [
    "creating the object keith2230G, can do a reset and set every channel to 0V,0A and no output with the reset parameter. It will procede to a yeld of every parameters of the keithley (set current,voltage; measured c,v; output;) of every channel. "
   ]
  },
  {
   "cell_type": "code",
   "execution_count": 9,
   "id": "0dd99886",
   "metadata": {},
   "outputs": [
    {
     "name": "stdout",
     "output_type": "stream",
     "text": [
      "Connected Device : Keithley Instruments, 2230G-30-1, 9205999, 1.16-1.05\n",
      "\n",
      "=====\n",
      "Channel : 1; Set voltage = 0\n",
      "; Set Current = 0\n",
      "\n",
      "Measured voltage  = 0\n",
      "; Measured current = 2.09808e-05\n",
      "\n",
      "=====\n",
      "Channel : 2; Set voltage = 0\n",
      "; Set Current = 0\n",
      "\n",
      "Measured voltage  = 11.0009\n",
      "; Measured current = 0\n",
      "\n",
      "=====\n",
      "Channel : 3; Set voltage = 0\n",
      "; Set Current = 0\n",
      "\n",
      "Measured voltage  = 0\n",
      "; Measured current = 0\n",
      "\n",
      "=====\n"
     ]
    }
   ],
   "source": [
    "my_instrument = kdriver.Keith2230G(adress='GPIB0::1::INSTR',reset = 1,silence_initial_measurements = 0)"
   ]
  },
  {
   "cell_type": "markdown",
   "id": "0fb4af02",
   "metadata": {},
   "source": [
    "Available commands"
   ]
  },
  {
   "cell_type": "code",
   "execution_count": 7,
   "id": "001a251e",
   "metadata": {},
   "outputs": [
    {
     "name": "stdout",
     "output_type": "stream",
     "text": [
      "CH3\n",
      "\n",
      "1\n",
      "\n",
      "0\n",
      "\n",
      "11\n",
      "\n",
      "11.0009\n",
      "\n",
      "=====\n",
      "Channel : 2\n",
      "Set voltage = 11\n",
      "\n",
      "Set Current = 1\n",
      "\n",
      "Measured voltage  = 11.0009\n",
      "\n",
      "Measured current = 0\n",
      "\n",
      "=====\n",
      "=====\n",
      "Channel : 1; Set voltage = 0\n",
      "; Set Current = 0\n",
      "\n",
      "Measured voltage  = 0\n",
      "; Measured current = 1.81198e-05\n",
      "\n",
      "=====\n",
      "Channel : 2; Set voltage = 11\n",
      "; Set Current = 1\n",
      "\n",
      "Measured voltage  = 11.0009\n",
      "; Measured current = 0\n",
      "\n",
      "=====\n",
      "Channel : 3; Set voltage = 0\n",
      "; Set Current = 0\n",
      "\n",
      "Measured voltage  = 0\n",
      "; Measured current = 0\n",
      "\n",
      "=====\n"
     ]
    }
   ],
   "source": [
    "print(my_instrument.get_channel())\n",
    "my_instrument.set_channel_voltage('CH2',11)\n",
    "my_instrument.set_channel_current('CH2',1)\n",
    "my_instrument.set_channel_output('CH2',1)\n",
    "print(my_instrument.get_channel_current_set('CH2'))\n",
    "print(my_instrument.get_channel_current('CH2'))\n",
    "print(my_instrument.get_channel_voltage_set('CH2'))\n",
    "print(my_instrument.get_channel_voltage('CH2'))\n",
    "my_instrument.channel_reality_check('CH2')\n",
    "my_instrument.reality_check()"
   ]
  },
  {
   "cell_type": "code",
   "execution_count": 8,
   "id": "a7c7e377",
   "metadata": {},
   "outputs": [],
   "source": [
    "my_instrument.close()"
   ]
  },
  {
   "cell_type": "code",
   "execution_count": 3,
   "id": "7787d64d",
   "metadata": {},
   "outputs": [
    {
     "data": {
      "text/plain": [
       "\u001b[1;31mInit signature:\u001b[0m\n",
       "\u001b[0mkdriver\u001b[0m\u001b[1;33m.\u001b[0m\u001b[0mKeith2230G\u001b[0m\u001b[1;33m(\u001b[0m\u001b[1;33m\n",
       "\u001b[0m    \u001b[0madress\u001b[0m\u001b[1;33m,\u001b[0m\u001b[1;33m\n",
       "\u001b[0m    \u001b[0mbackend\u001b[0m\u001b[1;33m=\u001b[0m\u001b[1;34m'@ivi'\u001b[0m\u001b[1;33m,\u001b[0m\u001b[1;33m\n",
       "\u001b[0m    \u001b[0mreset\u001b[0m\u001b[1;33m=\u001b[0m\u001b[1;36m0\u001b[0m\u001b[1;33m,\u001b[0m\u001b[1;33m\n",
       "\u001b[0m    \u001b[0msilence_initial_measurements\u001b[0m\u001b[1;33m=\u001b[0m\u001b[1;36m0\u001b[0m\u001b[1;33m,\u001b[0m\u001b[1;33m\n",
       "\u001b[0m\u001b[1;33m)\u001b[0m\u001b[1;33m\u001b[0m\u001b[1;33m\u001b[0m\u001b[0m\n",
       "\u001b[1;31mDocstring:\u001b[0m     \n",
       "class that manages the powersource.\n",
       "\n",
       "...\n",
       "\n",
       "Attributes\n",
       "----------\n",
       "adress : str\n",
       "    the port adress of the scope.\n",
       "    \n",
       "ressource_manager : visa resource manager\n",
       "    the resource manager for the scope.\n",
       "    \n",
       "inst : visa instance\n",
       "    instance of a generator.\n",
       "\n",
       "Methods\n",
       "----------\n",
       "get_channel :\n",
       "    Queries selected channel.\n",
       "\n",
       "get_channel_current(channel) :\n",
       "    Queries the current reading on the specified channel.\n",
       "    \n",
       "get_channel_voltage :\n",
       "    Queries the voltage reading on the specified channel.\n",
       "\n",
       "get_channel_voltage_set(channel) :\n",
       "    Queries the voltage set on the specified channel.\n",
       "\n",
       "get_channel_current_set(channel) :\n",
       "    Queries the current set on the specified channel.\n",
       "\n",
       "set_channel_current(channel, curr):\n",
       "    Set the current on the specified channel.\n",
       "\n",
       "set_channel_current(channel, curr) :\n",
       "    Set the current on the specified channel.\n",
       "\n",
       "set_channel_output(channel, state) :\n",
       "    Set the output state on the specified channel.\n",
       "\n",
       "reality_check :\n",
       "    Print the set and measured current and voltage of every channel.\n",
       "\n",
       "channel_reality_check(channel):\n",
       "    Print the set and measured current and voltage of a specified channel.\n",
       "\n",
       "close :\n",
       "    Close the link with the generator.\n",
       "\u001b[1;31mInit docstring:\u001b[0m\n",
       "Initializes the instrument with instrument address, backend to use with pyvisa,reset and silencing initial measurements.\n",
       "\n",
       "Parameters\n",
       "----------\n",
       "inst_address : str\n",
       "    The port address of the instrument.\n",
       "    \n",
       "backend : str, default = '@ivi'\n",
       "    Backend to use for pyvisa.\n",
       "    \n",
       "reset : bool, default = 0\n",
       "    resets every parameters to default setup (see 4-11 on keithley manual) and set every channel to 0V and 0A.\n",
       "    \n",
       "silence_initial_measurements : bool, default = 0\n",
       "    to silence initial measurements.\n",
       "\u001b[1;31mFile:\u001b[0m           c:\\users\\fpga designer\\documents\\github\\controle_manip\\lab\\keith2230gdriver.py\n",
       "\u001b[1;31mType:\u001b[0m           type\n",
       "\u001b[1;31mSubclasses:\u001b[0m     \n"
      ]
     },
     "metadata": {},
     "output_type": "display_data"
    }
   ],
   "source": [
    "kdriver.Keith2230G?"
   ]
  },
  {
   "cell_type": "code",
   "execution_count": 13,
   "id": "053e6f52",
   "metadata": {},
   "outputs": [
    {
     "data": {
      "text/plain": [
       "\u001b[1;31mSignature:\u001b[0m \u001b[0mkdriver\u001b[0m\u001b[1;33m.\u001b[0m\u001b[0mKeith2230G\u001b[0m\u001b[1;33m.\u001b[0m\u001b[0mget_channel\u001b[0m\u001b[1;33m(\u001b[0m\u001b[0mself\u001b[0m\u001b[1;33m)\u001b[0m\u001b[1;33m\u001b[0m\u001b[1;33m\u001b[0m\u001b[0m\n",
       "\u001b[1;31mDocstring:\u001b[0m\n",
       "Queries selected channel.\n",
       "\n",
       "Returns\n",
       "----------\n",
       "str\n",
       "\u001b[1;31mFile:\u001b[0m      c:\\users\\fpga designer\\documents\\github\\controle_manip\\lab\\keith2230gdriver.py\n",
       "\u001b[1;31mType:\u001b[0m      function\n"
      ]
     },
     "metadata": {},
     "output_type": "display_data"
    }
   ],
   "source": [
    "kdriver.Keith2230G.get_channel?"
   ]
  },
  {
   "cell_type": "code",
   "execution_count": 14,
   "id": "5adc000f",
   "metadata": {},
   "outputs": [
    {
     "data": {
      "text/plain": [
       "\u001b[1;31mSignature:\u001b[0m \u001b[0mkdriver\u001b[0m\u001b[1;33m.\u001b[0m\u001b[0mKeith2230G\u001b[0m\u001b[1;33m.\u001b[0m\u001b[0mset_channel_voltage\u001b[0m\u001b[1;33m(\u001b[0m\u001b[0mself\u001b[0m\u001b[1;33m,\u001b[0m \u001b[0mchannel\u001b[0m\u001b[1;33m,\u001b[0m \u001b[0mvolt\u001b[0m\u001b[1;33m)\u001b[0m\u001b[1;33m\u001b[0m\u001b[1;33m\u001b[0m\u001b[0m\n",
       "\u001b[1;31mDocstring:\u001b[0m\n",
       "Sets the voltage on the specified channel.\n",
       "\n",
       "Parameters\n",
       "----------\n",
       "channel : str\n",
       "    The selected channel or channels with the voltage level to\n",
       "    set. can be CH1, CH2 or CH3.\n",
       "    \n",
       "voltage : float\n",
       "    the voltage in Volts.\n",
       "\u001b[1;31mFile:\u001b[0m      c:\\users\\fpga designer\\documents\\github\\controle_manip\\lab\\keith2230gdriver.py\n",
       "\u001b[1;31mType:\u001b[0m      function\n"
      ]
     },
     "metadata": {},
     "output_type": "display_data"
    }
   ],
   "source": [
    "kdriver.Keith2230G.set_channel_voltage?"
   ]
  },
  {
   "cell_type": "code",
   "execution_count": 15,
   "id": "c7f33ab1",
   "metadata": {},
   "outputs": [
    {
     "data": {
      "text/plain": [
       "\u001b[1;31mSignature:\u001b[0m \u001b[0mkdriver\u001b[0m\u001b[1;33m.\u001b[0m\u001b[0mKeith2230G\u001b[0m\u001b[1;33m.\u001b[0m\u001b[0mset_channel_current\u001b[0m\u001b[1;33m(\u001b[0m\u001b[0mself\u001b[0m\u001b[1;33m,\u001b[0m \u001b[0mchannel\u001b[0m\u001b[1;33m,\u001b[0m \u001b[0mcurr\u001b[0m\u001b[1;33m)\u001b[0m\u001b[1;33m\u001b[0m\u001b[1;33m\u001b[0m\u001b[0m\n",
       "\u001b[1;31mDocstring:\u001b[0m\n",
       "Set the current on the specified channel.\n",
       "\n",
       "Parameters\n",
       "----------\n",
       "channel : str\n",
       "    The selected channel or channels with the current readings to\n",
       "    return. can be CH1, CH2 or CH3.\n",
       "    \n",
       "curr : float\n",
       "    the current in Amps.\n",
       "\u001b[1;31mFile:\u001b[0m      c:\\users\\fpga designer\\documents\\github\\controle_manip\\lab\\keith2230gdriver.py\n",
       "\u001b[1;31mType:\u001b[0m      function\n"
      ]
     },
     "metadata": {},
     "output_type": "display_data"
    }
   ],
   "source": [
    "kdriver.Keith2230G.set_channel_current?"
   ]
  },
  {
   "cell_type": "code",
   "execution_count": 16,
   "id": "824b3346",
   "metadata": {},
   "outputs": [
    {
     "data": {
      "text/plain": [
       "\u001b[1;31mSignature:\u001b[0m \u001b[0mkdriver\u001b[0m\u001b[1;33m.\u001b[0m\u001b[0mKeith2230G\u001b[0m\u001b[1;33m.\u001b[0m\u001b[0mset_channel_output\u001b[0m\u001b[1;33m(\u001b[0m\u001b[0mself\u001b[0m\u001b[1;33m,\u001b[0m \u001b[0mchannel\u001b[0m\u001b[1;33m,\u001b[0m \u001b[0mstate\u001b[0m\u001b[1;33m)\u001b[0m\u001b[1;33m\u001b[0m\u001b[1;33m\u001b[0m\u001b[0m\n",
       "\u001b[1;31mDocstring:\u001b[0m\n",
       "Sets the output state on the specified channel.\n",
       "\n",
       "Parameters\n",
       "----------\n",
       "channel : str\n",
       "    The selected channel or channels with the voltage level to\n",
       "    set. can be CH1, CH2 or CH3.\n",
       "    \n",
       "state : bool\n",
       "    0 for no ouptut, 1 for ouptuting.\n",
       "\u001b[1;31mFile:\u001b[0m      c:\\users\\fpga designer\\documents\\github\\controle_manip\\lab\\keith2230gdriver.py\n",
       "\u001b[1;31mType:\u001b[0m      function\n"
      ]
     },
     "metadata": {},
     "output_type": "display_data"
    }
   ],
   "source": [
    "kdriver.Keith2230G.set_channel_output?"
   ]
  },
  {
   "cell_type": "code",
   "execution_count": 17,
   "id": "c3b0352a",
   "metadata": {},
   "outputs": [
    {
     "data": {
      "text/plain": [
       "\u001b[1;31mSignature:\u001b[0m \u001b[0mkdriver\u001b[0m\u001b[1;33m.\u001b[0m\u001b[0mKeith2230G\u001b[0m\u001b[1;33m.\u001b[0m\u001b[0mget_channel_current_set\u001b[0m\u001b[1;33m(\u001b[0m\u001b[0mself\u001b[0m\u001b[1;33m,\u001b[0m \u001b[0mchannel\u001b[0m\u001b[1;33m)\u001b[0m\u001b[1;33m\u001b[0m\u001b[1;33m\u001b[0m\u001b[0m\n",
       "\u001b[1;31mDocstring:\u001b[0m\n",
       "Queries the current set on the specified channel.\n",
       "\n",
       "Parameters\n",
       "----------\n",
       "channel : str\n",
       "    The selected channel or channels with the current set to\n",
       "    return. can be CH1, CH2, CH3 or ALL.\n",
       "    \n",
       "Returns\n",
       "----------\n",
       "float\n",
       "\u001b[1;31mFile:\u001b[0m      c:\\users\\fpga designer\\documents\\github\\controle_manip\\lab\\keith2230gdriver.py\n",
       "\u001b[1;31mType:\u001b[0m      function\n"
      ]
     },
     "metadata": {},
     "output_type": "display_data"
    }
   ],
   "source": [
    "kdriver.Keith2230G.get_channel_current_set?"
   ]
  },
  {
   "cell_type": "code",
   "execution_count": 18,
   "id": "05f15747",
   "metadata": {},
   "outputs": [
    {
     "data": {
      "text/plain": [
       "\u001b[1;31mSignature:\u001b[0m \u001b[0mkdriver\u001b[0m\u001b[1;33m.\u001b[0m\u001b[0mKeith2230G\u001b[0m\u001b[1;33m.\u001b[0m\u001b[0mget_channel_current\u001b[0m\u001b[1;33m(\u001b[0m\u001b[0mself\u001b[0m\u001b[1;33m,\u001b[0m \u001b[0mchannel\u001b[0m\u001b[1;33m)\u001b[0m\u001b[1;33m\u001b[0m\u001b[1;33m\u001b[0m\u001b[0m\n",
       "\u001b[1;31mDocstring:\u001b[0m\n",
       "Queries the current reading on the specified channel.\n",
       "\n",
       "Parameters\n",
       "----------\n",
       "channel : str\n",
       "    The selected channel or channels with the current readings to\n",
       "    return. can be CH1, CH2, CH3 or ALL.\n",
       "\n",
       "Returns\n",
       "----------\n",
       "float\n",
       "\u001b[1;31mFile:\u001b[0m      c:\\users\\fpga designer\\documents\\github\\controle_manip\\lab\\keith2230gdriver.py\n",
       "\u001b[1;31mType:\u001b[0m      function\n"
      ]
     },
     "metadata": {},
     "output_type": "display_data"
    }
   ],
   "source": [
    "kdriver.Keith2230G.get_channel_current?"
   ]
  },
  {
   "cell_type": "code",
   "execution_count": 19,
   "id": "bc2a5a76",
   "metadata": {},
   "outputs": [
    {
     "data": {
      "text/plain": [
       "\u001b[1;31mSignature:\u001b[0m \u001b[0mkdriver\u001b[0m\u001b[1;33m.\u001b[0m\u001b[0mKeith2230G\u001b[0m\u001b[1;33m.\u001b[0m\u001b[0mget_channel_voltage_set\u001b[0m\u001b[1;33m(\u001b[0m\u001b[0mself\u001b[0m\u001b[1;33m,\u001b[0m \u001b[0mchannel\u001b[0m\u001b[1;33m)\u001b[0m\u001b[1;33m\u001b[0m\u001b[1;33m\u001b[0m\u001b[0m\n",
       "\u001b[1;31mDocstring:\u001b[0m\n",
       "Queries the voltage set on the specified channel.\n",
       "\n",
       "Parameters\n",
       "----------\n",
       "channel : str\n",
       "    The selected channel or channels with the voltage set to\n",
       "    return. can be CH1, CH2, CH3 or ALL.\n",
       "\n",
       "Returns\n",
       "----------\n",
       "float\n",
       "\u001b[1;31mFile:\u001b[0m      c:\\users\\fpga designer\\documents\\github\\controle_manip\\lab\\keith2230gdriver.py\n",
       "\u001b[1;31mType:\u001b[0m      function\n"
      ]
     },
     "metadata": {},
     "output_type": "display_data"
    }
   ],
   "source": [
    "kdriver.Keith2230G.get_channel_voltage_set?"
   ]
  },
  {
   "cell_type": "code",
   "execution_count": 20,
   "id": "6fb5e6e2",
   "metadata": {},
   "outputs": [
    {
     "data": {
      "text/plain": [
       "\u001b[1;31mSignature:\u001b[0m \u001b[0mkdriver\u001b[0m\u001b[1;33m.\u001b[0m\u001b[0mKeith2230G\u001b[0m\u001b[1;33m.\u001b[0m\u001b[0mget_channel_voltage\u001b[0m\u001b[1;33m(\u001b[0m\u001b[0mself\u001b[0m\u001b[1;33m,\u001b[0m \u001b[0mchannel\u001b[0m\u001b[1;33m)\u001b[0m\u001b[1;33m\u001b[0m\u001b[1;33m\u001b[0m\u001b[0m\n",
       "\u001b[1;31mDocstring:\u001b[0m\n",
       "Queries the voltage reading on the specified channel.\n",
       "\n",
       "Parameters\n",
       "----------\n",
       "channel : str\n",
       "    The selected channel or channels with the voltage readings to\n",
       "    return. can be CH1, CH2, CH3 or ALL.\n",
       "    \n",
       "Returns\n",
       "----------\n",
       "float\n",
       "\u001b[1;31mFile:\u001b[0m      c:\\users\\fpga designer\\documents\\github\\controle_manip\\lab\\keith2230gdriver.py\n",
       "\u001b[1;31mType:\u001b[0m      function\n"
      ]
     },
     "metadata": {},
     "output_type": "display_data"
    }
   ],
   "source": [
    "kdriver.Keith2230G.get_channel_voltage?"
   ]
  },
  {
   "cell_type": "code",
   "execution_count": 21,
   "id": "6f855dc4",
   "metadata": {},
   "outputs": [
    {
     "data": {
      "text/plain": [
       "\u001b[1;31mSignature:\u001b[0m \u001b[0mkdriver\u001b[0m\u001b[1;33m.\u001b[0m\u001b[0mKeith2230G\u001b[0m\u001b[1;33m.\u001b[0m\u001b[0mchannel_reality_check\u001b[0m\u001b[1;33m(\u001b[0m\u001b[0mself\u001b[0m\u001b[1;33m,\u001b[0m \u001b[0mchannel\u001b[0m\u001b[1;33m)\u001b[0m\u001b[1;33m\u001b[0m\u001b[1;33m\u001b[0m\u001b[0m\n",
       "\u001b[1;31mDocstring:\u001b[0m\n",
       "Prints the set and measured current and voltage of a specified channel.\n",
       "\n",
       "Parameters\n",
       "----------\n",
       "channel : str\n",
       "    The selected channel.\n",
       "\u001b[1;31mFile:\u001b[0m      c:\\users\\fpga designer\\documents\\github\\controle_manip\\lab\\keith2230gdriver.py\n",
       "\u001b[1;31mType:\u001b[0m      function\n"
      ]
     },
     "metadata": {},
     "output_type": "display_data"
    }
   ],
   "source": [
    "kdriver.Keith2230G.channel_reality_check?"
   ]
  },
  {
   "cell_type": "code",
   "execution_count": 22,
   "id": "ce98a7f3",
   "metadata": {},
   "outputs": [
    {
     "data": {
      "text/plain": [
       "\u001b[1;31mSignature:\u001b[0m \u001b[0mkdriver\u001b[0m\u001b[1;33m.\u001b[0m\u001b[0mKeith2230G\u001b[0m\u001b[1;33m.\u001b[0m\u001b[0mclose\u001b[0m\u001b[1;33m(\u001b[0m\u001b[0mself\u001b[0m\u001b[1;33m)\u001b[0m\u001b[1;33m\u001b[0m\u001b[1;33m\u001b[0m\u001b[0m\n",
       "\u001b[1;31mDocstring:\u001b[0m Closes the link with the generator.\n",
       "\u001b[1;31mFile:\u001b[0m      c:\\users\\fpga designer\\documents\\github\\controle_manip\\lab\\keith2230gdriver.py\n",
       "\u001b[1;31mType:\u001b[0m      function\n"
      ]
     },
     "metadata": {},
     "output_type": "display_data"
    }
   ],
   "source": [
    "kdriver.Keith2230G.close?"
   ]
  },
  {
   "cell_type": "code",
   "execution_count": null,
   "id": "8ff4b40a",
   "metadata": {},
   "outputs": [],
   "source": []
  }
 ],
 "metadata": {
  "kernelspec": {
   "display_name": "Python 3",
   "language": "python",
   "name": "python3"
  },
  "language_info": {
   "codemirror_mode": {
    "name": "ipython",
    "version": 3
   },
   "file_extension": ".py",
   "mimetype": "text/x-python",
   "name": "python",
   "nbconvert_exporter": "python",
   "pygments_lexer": "ipython3",
   "version": "3.6.13"
  }
 },
 "nbformat": 4,
 "nbformat_minor": 5
}
