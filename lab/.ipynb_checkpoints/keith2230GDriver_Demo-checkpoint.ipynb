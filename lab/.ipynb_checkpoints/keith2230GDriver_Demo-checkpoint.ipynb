{
 "cells": [
  {
   "cell_type": "markdown",
   "id": "1879c4e7",
   "metadata": {},
   "source": [
    "## This is an exemple of use of the features present in the keith2230GDriver.\n",
    "This is a driver enabling easy control of a Keithley 2230G-30-1 from a python script, trough the GPIB porte of the device. (Note that a keithley kusb-488B has been used). "
   ]
  },
  {
   "cell_type": "markdown",
   "id": "da34ecd2",
   "metadata": {},
   "source": [
    "## config needed\n",
    "\n",
    "python (tested with 32 bit python, might work for 64 bit)\n",
    "\n",
    "pyvisa (1.11.3)\n",
    "\n",
    "a backend for pyvisa (i used the NI-VISA backend, see https://pyvisa.readthedocs.io/en/latest/introduction/getting.html#backend for more information and https://www.ni.com/fr-fr/support/downloads/drivers/download.ni-visa.html for the NI-VISA donload)\n",
    "\n",
    "drivers for the keithley kusb-488B (8.0.904.20)"
   ]
  },
  {
   "cell_type": "code",
   "execution_count": 1,
   "id": "aee4d0ba",
   "metadata": {},
   "outputs": [],
   "source": [
    "import pyvisa as visa\n",
    "import keith2230GDriver as kdriver"
   ]
  },
  {
   "cell_type": "markdown",
   "id": "570c2813",
   "metadata": {},
   "source": [
    "checking the list of devices plugged in the pc, you should see the port's number set on the device 'GPIB0::*number*::INSTR'"
   ]
  },
  {
   "cell_type": "code",
   "execution_count": 2,
   "id": "a152c355",
   "metadata": {},
   "outputs": [
    {
     "name": "stdout",
     "output_type": "stream",
     "text": [
      "('ASRL1::INSTR', 'ASRL3::INSTR', 'GPIB0::INTFC', 'GPIB0::1::INSTR')\n"
     ]
    }
   ],
   "source": [
    "rm = visa.ResourceManager('@ivi')\n",
    "print(rm.list_resources('?*'))"
   ]
  },
  {
   "cell_type": "markdown",
   "id": "9d67f749",
   "metadata": {},
   "source": [
    "creating the object keith2230G, can do a reset and set every channel to 0V,0A and no output with the reset parameter. It will procede to a yeld of every parameters of the keithley (set current,voltage; measured c,v; output;) of every channel. "
   ]
  },
  {
   "cell_type": "code",
   "execution_count": 3,
   "id": "710521c5",
   "metadata": {},
   "outputs": [
    {
     "name": "stdout",
     "output_type": "stream",
     "text": [
      "Connected Device : Keithley Instruments, 2230G-30-1, 9205999, 1.16-1.05\n",
      "\n",
      "=====\n",
      "Channel : 1; Set voltage = 0\n",
      "; Set Current = 0\n",
      "\n",
      "Measured voltage  = 0.00143814\n",
      "; Measured current = 2.09808e-05\n",
      "\n",
      "=====\n",
      "Channel : 2; Set voltage = 11\n",
      "; Set Current = 1\n",
      "\n",
      "Measured voltage  = 11.0006\n",
      "; Measured current = 0\n",
      "\n",
      "=====\n",
      "Channel : 3; Set voltage = 0\n",
      "; Set Current = 0\n",
      "\n",
      "Measured voltage  = 0.000276566\n",
      "; Measured current = 0\n",
      "\n",
      "=====\n"
     ]
    }
   ],
   "source": [
    "my_instrument = kdriver.Keith2230G(adress='GPIB0::1::INSTR',reset = 0,silence_initial_measurements = 0)"
   ]
  },
  {
   "cell_type": "markdown",
   "id": "651b95c7",
   "metadata": {},
   "source": [
    "Available commands"
   ]
  },
  {
   "cell_type": "code",
   "execution_count": 5,
   "id": "c5e0832a",
   "metadata": {},
   "outputs": [
    {
     "name": "stdout",
     "output_type": "stream",
     "text": [
      "CH3\n",
      "\n",
      "1\n",
      "\n",
      "0\n",
      "\n",
      "11\n",
      "\n",
      "11.0005\n",
      "\n",
      "=====\n",
      "Channel : 2\n",
      "Set voltage = 11\n",
      "\n",
      "Set Current = 1\n",
      "\n",
      "Measured voltage  = 11.0005\n",
      "\n",
      "Measured current = 0\n",
      "\n",
      "=====\n",
      "=====\n",
      "Channel : 1; Set voltage = 0\n",
      "; Set Current = 0\n",
      "\n",
      "Measured voltage  = 0.00143051\n",
      "; Measured current = 2.28882e-05\n",
      "\n",
      "=====\n",
      "Channel : 2; Set voltage = 11\n",
      "; Set Current = 1\n",
      "\n",
      "Measured voltage  = 11.0005\n",
      "; Measured current = 0\n",
      "\n",
      "=====\n",
      "Channel : 3; Set voltage = 0\n",
      "; Set Current = 0\n",
      "\n",
      "Measured voltage  = 0.00025177\n",
      "; Measured current = 0\n",
      "\n",
      "=====\n"
     ]
    }
   ],
   "source": [
    "print(my_instrument.get_channel())\n",
    "my_instrument.set_channel_voltage('CH2',11)\n",
    "my_instrument.set_channel_current('CH2',1)\n",
    "my_instrument.set_channel_output('CH2',1)\n",
    "print(my_instrument.get_channel_current_set('CH2'))\n",
    "print(my_instrument.get_channel_current('CH2'))\n",
    "print(my_instrument.get_channel_voltage_set('CH2'))\n",
    "print(my_instrument.get_channel_voltage('CH2'))\n",
    "my_instrument.channel_reality_check('CH2')\n",
    "my_instrument.reality_check()"
   ]
  },
  {
   "cell_type": "code",
   "execution_count": 11,
   "id": "5b69cbb9",
   "metadata": {},
   "outputs": [],
   "source": [
    "my_instrument.close()"
   ]
  }
 ],
 "metadata": {
  "kernelspec": {
   "display_name": "Python 3",
   "language": "python",
   "name": "python3"
  },
  "language_info": {
   "codemirror_mode": {
    "name": "ipython",
    "version": 3
   },
   "file_extension": ".py",
   "mimetype": "text/x-python",
   "name": "python",
   "nbconvert_exporter": "python",
   "pygments_lexer": "ipython3",
   "version": "3.6.13"
  }
 },
 "nbformat": 4,
 "nbformat_minor": 5
}
